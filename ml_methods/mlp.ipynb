{
 "cells": [
  {
   "cell_type": "code",
   "execution_count": 1,
   "metadata": {},
   "outputs": [],
   "source": [
    "import pandas as pd\n",
    "pd.options.display.max_columns = 200\n",
    "\n",
    "songs = pd.read_csv('../data/spotify_simplified.csv', index_col=[0])"
   ]
  },
  {
   "cell_type": "code",
   "execution_count": null,
   "metadata": {},
   "outputs": [],
   "source": [
    "from sklearnex import patch_sklearn\n",
    "patch_sklearn()\n",
    "from sklearn.neural_network import MLPClassifier\n",
    "from sklearn.preprocessing import LabelEncoder\n",
    "from sklearn.model_selection import train_test_split\n",
    "from sklearn.metrics import accuracy_score, f1_score\n",
    "from sklearn.preprocessing import MinMaxScaler\n",
    "from data_prep import scale_data, add_artists_as_features\n",
    "\n",
    "# Normalize data in 0-1 range\n",
    "scaler = MinMaxScaler()\n",
    "with_authors = add_artists_as_features(songs, 500)\n",
    "songs_data = scale_data(with_authors, scaler)\n",
    "genres = songs[\"track_genre\"]\n",
    "# Numerically encode the labels\n",
    "label_encoder = LabelEncoder()\n",
    "encoded_genres = label_encoder.fit_transform(genres)\n",
    "# Using stratify might help because we have an imbalanced dataset\n",
    "X_train, X_test, y_train, y_test = train_test_split(songs_data, encoded_genres, test_size=0.2, \n",
    "                                                    stratify=encoded_genres, shuffle=True, random_state=50)\n",
    "# Train model\n",
    "mlp = MLPClassifier(max_iter=400, verbose=True)\n",
    "mlp.fit(X_train, y_train)"
   ]
  },
  {
   "cell_type": "code",
   "execution_count": null,
   "metadata": {},
   "outputs": [
    {
     "name": "stdout",
     "output_type": "stream",
     "text": [
      "Baseline performance using an MLP\n",
      "Accuracy: 0.6109315801203477\n",
      "F1-score: 0.6066895937163028\n"
     ]
    }
   ],
   "source": [
    "# Evaluate model\n",
    "predictions = mlp.predict(X_test)\n",
    "base_accuracy = accuracy_score(y_test, predictions)\n",
    "base_f1_weighted = f1_score(y_test, predictions, average='weighted')\n",
    "print(\"Baseline performance using an MLP\")\n",
    "print(f\"Accuracy: {base_accuracy}\")\n",
    "print(f\"F1-score: {base_f1_weighted}\")"
   ]
  }
 ],
 "metadata": {
  "kernelspec": {
   "display_name": "ml",
   "language": "python",
   "name": "python3"
  },
  "language_info": {
   "codemirror_mode": {
    "name": "ipython",
    "version": 3
   },
   "file_extension": ".py",
   "mimetype": "text/x-python",
   "name": "python",
   "nbconvert_exporter": "python",
   "pygments_lexer": "ipython3",
   "version": "3.10.12"
  }
 },
 "nbformat": 4,
 "nbformat_minor": 2
}
