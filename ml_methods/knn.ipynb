{
  "cells": [
    {
      "cell_type": "code",
      "execution_count": 2,
      "id": "0ac1f735",
      "metadata": {
        "colab": {
          "base_uri": "https://localhost:8080/",
          "height": 365
        },
        "id": "0ac1f735",
        "outputId": "6d7b06d3-dbd3-44ec-c3be-fae3d67b3340"
      },
      "outputs": [
        {
          "data": {
            "text/html": [
              "<div>\n",
              "<style scoped>\n",
              "    .dataframe tbody tr th:only-of-type {\n",
              "        vertical-align: middle;\n",
              "    }\n",
              "\n",
              "    .dataframe tbody tr th {\n",
              "        vertical-align: top;\n",
              "    }\n",
              "\n",
              "    .dataframe thead th {\n",
              "        text-align: right;\n",
              "    }\n",
              "</style>\n",
              "<table border=\"1\" class=\"dataframe\">\n",
              "  <thead>\n",
              "    <tr style=\"text-align: right;\">\n",
              "      <th></th>\n",
              "      <th>Unnamed: 0</th>\n",
              "      <th>track_id</th>\n",
              "      <th>artists</th>\n",
              "      <th>album_name</th>\n",
              "      <th>track_name</th>\n",
              "      <th>popularity</th>\n",
              "      <th>duration_ms</th>\n",
              "      <th>explicit</th>\n",
              "      <th>danceability</th>\n",
              "      <th>energy</th>\n",
              "      <th>key</th>\n",
              "      <th>loudness</th>\n",
              "      <th>mode</th>\n",
              "      <th>speechiness</th>\n",
              "      <th>acousticness</th>\n",
              "      <th>instrumentalness</th>\n",
              "      <th>liveness</th>\n",
              "      <th>valence</th>\n",
              "      <th>tempo</th>\n",
              "      <th>time_signature</th>\n",
              "      <th>track_genre</th>\n",
              "    </tr>\n",
              "  </thead>\n",
              "  <tbody>\n",
              "    <tr>\n",
              "      <th>0</th>\n",
              "      <td>0</td>\n",
              "      <td>5SuOikwiRyPMVoIQDJUgSV</td>\n",
              "      <td>Gen Hoshino</td>\n",
              "      <td>Comedy</td>\n",
              "      <td>Comedy</td>\n",
              "      <td>73</td>\n",
              "      <td>230666</td>\n",
              "      <td>False</td>\n",
              "      <td>0.676</td>\n",
              "      <td>0.4610</td>\n",
              "      <td>1</td>\n",
              "      <td>-6.746</td>\n",
              "      <td>0</td>\n",
              "      <td>0.1430</td>\n",
              "      <td>0.0322</td>\n",
              "      <td>0.000001</td>\n",
              "      <td>0.3580</td>\n",
              "      <td>0.715</td>\n",
              "      <td>87.917</td>\n",
              "      <td>4</td>\n",
              "      <td>acoustic</td>\n",
              "    </tr>\n",
              "    <tr>\n",
              "      <th>1</th>\n",
              "      <td>1</td>\n",
              "      <td>4qPNDBW1i3p13qLCt0Ki3A</td>\n",
              "      <td>Ben Woodward</td>\n",
              "      <td>Ghost (Acoustic)</td>\n",
              "      <td>Ghost - Acoustic</td>\n",
              "      <td>55</td>\n",
              "      <td>149610</td>\n",
              "      <td>False</td>\n",
              "      <td>0.420</td>\n",
              "      <td>0.1660</td>\n",
              "      <td>1</td>\n",
              "      <td>-17.235</td>\n",
              "      <td>1</td>\n",
              "      <td>0.0763</td>\n",
              "      <td>0.9240</td>\n",
              "      <td>0.000006</td>\n",
              "      <td>0.1010</td>\n",
              "      <td>0.267</td>\n",
              "      <td>77.489</td>\n",
              "      <td>4</td>\n",
              "      <td>acoustic</td>\n",
              "    </tr>\n",
              "    <tr>\n",
              "      <th>2</th>\n",
              "      <td>2</td>\n",
              "      <td>1iJBSr7s7jYXzM8EGcbK5b</td>\n",
              "      <td>Ingrid Michaelson;ZAYN</td>\n",
              "      <td>To Begin Again</td>\n",
              "      <td>To Begin Again</td>\n",
              "      <td>57</td>\n",
              "      <td>210826</td>\n",
              "      <td>False</td>\n",
              "      <td>0.438</td>\n",
              "      <td>0.3590</td>\n",
              "      <td>0</td>\n",
              "      <td>-9.734</td>\n",
              "      <td>1</td>\n",
              "      <td>0.0557</td>\n",
              "      <td>0.2100</td>\n",
              "      <td>0.000000</td>\n",
              "      <td>0.1170</td>\n",
              "      <td>0.120</td>\n",
              "      <td>76.332</td>\n",
              "      <td>4</td>\n",
              "      <td>acoustic</td>\n",
              "    </tr>\n",
              "    <tr>\n",
              "      <th>3</th>\n",
              "      <td>3</td>\n",
              "      <td>6lfxq3CG4xtTiEg7opyCyx</td>\n",
              "      <td>Kina Grannis</td>\n",
              "      <td>Crazy Rich Asians (Original Motion Picture Sou...</td>\n",
              "      <td>Can't Help Falling In Love</td>\n",
              "      <td>71</td>\n",
              "      <td>201933</td>\n",
              "      <td>False</td>\n",
              "      <td>0.266</td>\n",
              "      <td>0.0596</td>\n",
              "      <td>0</td>\n",
              "      <td>-18.515</td>\n",
              "      <td>1</td>\n",
              "      <td>0.0363</td>\n",
              "      <td>0.9050</td>\n",
              "      <td>0.000071</td>\n",
              "      <td>0.1320</td>\n",
              "      <td>0.143</td>\n",
              "      <td>181.740</td>\n",
              "      <td>3</td>\n",
              "      <td>acoustic</td>\n",
              "    </tr>\n",
              "    <tr>\n",
              "      <th>4</th>\n",
              "      <td>4</td>\n",
              "      <td>5vjLSffimiIP26QG5WcN2K</td>\n",
              "      <td>Chord Overstreet</td>\n",
              "      <td>Hold On</td>\n",
              "      <td>Hold On</td>\n",
              "      <td>82</td>\n",
              "      <td>198853</td>\n",
              "      <td>False</td>\n",
              "      <td>0.618</td>\n",
              "      <td>0.4430</td>\n",
              "      <td>2</td>\n",
              "      <td>-9.681</td>\n",
              "      <td>1</td>\n",
              "      <td>0.0526</td>\n",
              "      <td>0.4690</td>\n",
              "      <td>0.000000</td>\n",
              "      <td>0.0829</td>\n",
              "      <td>0.167</td>\n",
              "      <td>119.949</td>\n",
              "      <td>4</td>\n",
              "      <td>acoustic</td>\n",
              "    </tr>\n",
              "  </tbody>\n",
              "</table>\n",
              "</div>"
            ],
            "text/plain": [
              "   Unnamed: 0                track_id                 artists  \\\n",
              "0           0  5SuOikwiRyPMVoIQDJUgSV             Gen Hoshino   \n",
              "1           1  4qPNDBW1i3p13qLCt0Ki3A            Ben Woodward   \n",
              "2           2  1iJBSr7s7jYXzM8EGcbK5b  Ingrid Michaelson;ZAYN   \n",
              "3           3  6lfxq3CG4xtTiEg7opyCyx            Kina Grannis   \n",
              "4           4  5vjLSffimiIP26QG5WcN2K        Chord Overstreet   \n",
              "\n",
              "                                          album_name  \\\n",
              "0                                             Comedy   \n",
              "1                                   Ghost (Acoustic)   \n",
              "2                                     To Begin Again   \n",
              "3  Crazy Rich Asians (Original Motion Picture Sou...   \n",
              "4                                            Hold On   \n",
              "\n",
              "                   track_name  popularity  duration_ms  explicit  \\\n",
              "0                      Comedy          73       230666     False   \n",
              "1            Ghost - Acoustic          55       149610     False   \n",
              "2              To Begin Again          57       210826     False   \n",
              "3  Can't Help Falling In Love          71       201933     False   \n",
              "4                     Hold On          82       198853     False   \n",
              "\n",
              "   danceability  energy  key  loudness  mode  speechiness  acousticness  \\\n",
              "0         0.676  0.4610    1    -6.746     0       0.1430        0.0322   \n",
              "1         0.420  0.1660    1   -17.235     1       0.0763        0.9240   \n",
              "2         0.438  0.3590    0    -9.734     1       0.0557        0.2100   \n",
              "3         0.266  0.0596    0   -18.515     1       0.0363        0.9050   \n",
              "4         0.618  0.4430    2    -9.681     1       0.0526        0.4690   \n",
              "\n",
              "   instrumentalness  liveness  valence    tempo  time_signature track_genre  \n",
              "0          0.000001    0.3580    0.715   87.917               4    acoustic  \n",
              "1          0.000006    0.1010    0.267   77.489               4    acoustic  \n",
              "2          0.000000    0.1170    0.120   76.332               4    acoustic  \n",
              "3          0.000071    0.1320    0.143  181.740               3    acoustic  \n",
              "4          0.000000    0.0829    0.167  119.949               4    acoustic  "
            ]
          },
          "execution_count": 2,
          "metadata": {},
          "output_type": "execute_result"
        }
      ],
      "source": [
        "#from sklearnex import patch_sklearn\n",
        "#patch_sklearn()\n",
        "\n",
        "import pandas as pd\n",
        "import numpy as np\n",
        "pd.options.display.max_columns = 30\n",
        "#data = pd.read_csv('data/spotify_data.csv')\n",
        "#data = pd.read_csv('data/spotify_clean.csv')\n",
        "data = pd.read_csv('../data/spotify_data.csv')\n",
        "data.head()"
      ]
    },
    {
      "cell_type": "markdown",
      "id": "b16720d9",
      "metadata": {
        "id": "b16720d9"
      },
      "source": [
        "# Preprocessing steps\n",
        "splitting train and test data and preprocess them separately: remove duplicates(train set only), transform boolean variable into 1/0 values, drop string values and scale numerical data with Z-scaler\n"
      ]
    },
    {
      "cell_type": "code",
      "execution_count": 3,
      "id": "92a5563b",
      "metadata": {
        "id": "92a5563b"
      },
      "outputs": [],
      "source": [
        "# create a variable with the values of the target variable track_genre\n",
        "data_target = data['track_genre']"
      ]
    },
    {
      "cell_type": "code",
      "execution_count": 4,
      "id": "047c6943",
      "metadata": {
        "id": "047c6943"
      },
      "outputs": [],
      "source": [
        "# and remove it from the dataframe so it only contains the features that our model should use\n",
        "data = data.drop(columns='track_genre')"
      ]
    },
    {
      "cell_type": "code",
      "execution_count": 5,
      "id": "57f37c51",
      "metadata": {
        "id": "57f37c51"
      },
      "outputs": [],
      "source": [
        "# split data into train set and test set in proportion 80/20\n",
        "from sklearn.model_selection import train_test_split\n",
        "\n",
        "data_train, data_test, target_train, target_test = train_test_split(\n",
        "    data, data_target,test_size=0.2, random_state=42, stratify=data_target)"
      ]
    },
    {
      "cell_type": "code",
      "execution_count": 6,
      "id": "c7iusBDLlpXa",
      "metadata": {
        "id": "c7iusBDLlpXa"
      },
      "outputs": [],
      "source": [
        "# Combine the training data and target into a single DataFrame for easy duplicate removal\n",
        "train_df = pd.concat([pd.DataFrame(data_train), pd.Series(target_train, name='target')], axis=1)\n",
        "\n",
        "# Remove duplicates from the training set\n",
        "train_df_no_duplicates = train_df.drop_duplicates(['track_id'])\n",
        "\n",
        "# Separate the features and target variable after removing duplicates\n",
        "data_train = train_df_no_duplicates.drop(columns=['target'])\n",
        "target_train = train_df_no_duplicates['target']"
      ]
    },
    {
      "cell_type": "code",
      "execution_count": 7,
      "id": "dtvQIS8rqEtx",
      "metadata": {
        "id": "dtvQIS8rqEtx"
      },
      "outputs": [],
      "source": [
        "# perform normalization\n",
        "from sklearn.preprocessing import MinMaxScaler, StandardScaler\n",
        "#scaler = MinMaxScaler()\n",
        "scaler = StandardScaler()\n",
        "\n",
        "\n"
      ]
    },
    {
      "cell_type": "code",
      "execution_count": 8,
      "id": "eMWew04rl27p",
      "metadata": {
        "id": "eMWew04rl27p"
      },
      "outputs": [],
      "source": [
        "#Preprocessing train data set\n",
        "# change True/False values of the boolean variable to 1 and 0\n",
        "data_train['explicit'] = (data_train['explicit']).astype(np.int8)\n",
        "\n",
        "# remove string features(artist, album_name, track_name) and irrelevant features(track_id, index) that we are not going to use for k NN classifier\n",
        "data_train = data_train.drop(columns=['artists', 'album_name', 'track_name', 'track_id', 'Unnamed: 0'])\n",
        "\n",
        "# normalize train set\n",
        "data_train = scaler.fit_transform(data_train)"
      ]
    },
    {
      "cell_type": "code",
      "execution_count": 9,
      "id": "txk9uLljl3qy",
      "metadata": {
        "id": "txk9uLljl3qy"
      },
      "outputs": [],
      "source": [
        "#Preprocessing train data set\n",
        "# change True/False values of the boolean variable to 1 and 0\n",
        "data_test['explicit'] = (data_test['explicit']).astype(np.int8)\n",
        "\n",
        "# remove string features(artist, album_name, track_name) and irrelevant features(track_id, index) that we are not going to use for k NN classifier\n",
        "data_test = data_test.drop(columns=['artists', 'album_name', 'track_name', 'track_id', 'Unnamed: 0'])\n",
        "\n",
        "# normalize test set\n",
        "data_test = scaler.fit_transform(data_test)"
      ]
    },
    {
      "cell_type": "markdown",
      "metadata": {},
      "source": [
        "# k Nearest Neighbors Classifier"
      ]
    },
    {
      "cell_type": "code",
      "execution_count": 10,
      "id": "6731da93",
      "metadata": {
        "colab": {
          "base_uri": "https://localhost:8080/",
          "height": 74
        },
        "id": "6731da93",
        "outputId": "c1c8a18e-b966-435a-bf6f-89f356e0d8c3"
      },
      "outputs": [
        {
          "data": {
            "text/html": [
              "<style>#sk-container-id-1 {color: black;}#sk-container-id-1 pre{padding: 0;}#sk-container-id-1 div.sk-toggleable {background-color: white;}#sk-container-id-1 label.sk-toggleable__label {cursor: pointer;display: block;width: 100%;margin-bottom: 0;padding: 0.3em;box-sizing: border-box;text-align: center;}#sk-container-id-1 label.sk-toggleable__label-arrow:before {content: \"▸\";float: left;margin-right: 0.25em;color: #696969;}#sk-container-id-1 label.sk-toggleable__label-arrow:hover:before {color: black;}#sk-container-id-1 div.sk-estimator:hover label.sk-toggleable__label-arrow:before {color: black;}#sk-container-id-1 div.sk-toggleable__content {max-height: 0;max-width: 0;overflow: hidden;text-align: left;background-color: #f0f8ff;}#sk-container-id-1 div.sk-toggleable__content pre {margin: 0.2em;color: black;border-radius: 0.25em;background-color: #f0f8ff;}#sk-container-id-1 input.sk-toggleable__control:checked~div.sk-toggleable__content {max-height: 200px;max-width: 100%;overflow: auto;}#sk-container-id-1 input.sk-toggleable__control:checked~label.sk-toggleable__label-arrow:before {content: \"▾\";}#sk-container-id-1 div.sk-estimator input.sk-toggleable__control:checked~label.sk-toggleable__label {background-color: #d4ebff;}#sk-container-id-1 div.sk-label input.sk-toggleable__control:checked~label.sk-toggleable__label {background-color: #d4ebff;}#sk-container-id-1 input.sk-hidden--visually {border: 0;clip: rect(1px 1px 1px 1px);clip: rect(1px, 1px, 1px, 1px);height: 1px;margin: -1px;overflow: hidden;padding: 0;position: absolute;width: 1px;}#sk-container-id-1 div.sk-estimator {font-family: monospace;background-color: #f0f8ff;border: 1px dotted black;border-radius: 0.25em;box-sizing: border-box;margin-bottom: 0.5em;}#sk-container-id-1 div.sk-estimator:hover {background-color: #d4ebff;}#sk-container-id-1 div.sk-parallel-item::after {content: \"\";width: 100%;border-bottom: 1px solid gray;flex-grow: 1;}#sk-container-id-1 div.sk-label:hover label.sk-toggleable__label {background-color: #d4ebff;}#sk-container-id-1 div.sk-serial::before {content: \"\";position: absolute;border-left: 1px solid gray;box-sizing: border-box;top: 0;bottom: 0;left: 50%;z-index: 0;}#sk-container-id-1 div.sk-serial {display: flex;flex-direction: column;align-items: center;background-color: white;padding-right: 0.2em;padding-left: 0.2em;position: relative;}#sk-container-id-1 div.sk-item {position: relative;z-index: 1;}#sk-container-id-1 div.sk-parallel {display: flex;align-items: stretch;justify-content: center;background-color: white;position: relative;}#sk-container-id-1 div.sk-item::before, #sk-container-id-1 div.sk-parallel-item::before {content: \"\";position: absolute;border-left: 1px solid gray;box-sizing: border-box;top: 0;bottom: 0;left: 50%;z-index: -1;}#sk-container-id-1 div.sk-parallel-item {display: flex;flex-direction: column;z-index: 1;position: relative;background-color: white;}#sk-container-id-1 div.sk-parallel-item:first-child::after {align-self: flex-end;width: 50%;}#sk-container-id-1 div.sk-parallel-item:last-child::after {align-self: flex-start;width: 50%;}#sk-container-id-1 div.sk-parallel-item:only-child::after {width: 0;}#sk-container-id-1 div.sk-dashed-wrapped {border: 1px dashed gray;margin: 0 0.4em 0.5em 0.4em;box-sizing: border-box;padding-bottom: 0.4em;background-color: white;}#sk-container-id-1 div.sk-label label {font-family: monospace;font-weight: bold;display: inline-block;line-height: 1.2em;}#sk-container-id-1 div.sk-label-container {text-align: center;}#sk-container-id-1 div.sk-container {/* jupyter's `normalize.less` sets `[hidden] { display: none; }` but bootstrap.min.css set `[hidden] { display: none !important; }` so we also need the `!important` here to be able to override the default hidden behavior on the sphinx rendered scikit-learn.org. See: https://github.com/scikit-learn/scikit-learn/issues/21755 */display: inline-block !important;position: relative;}#sk-container-id-1 div.sk-text-repr-fallback {display: none;}</style><div id=\"sk-container-id-1\" class=\"sk-top-container\"><div class=\"sk-text-repr-fallback\"><pre>KNeighborsClassifier()</pre><b>In a Jupyter environment, please rerun this cell to show the HTML representation or trust the notebook. <br />On GitHub, the HTML representation is unable to render, please try loading this page with nbviewer.org.</b></div><div class=\"sk-container\" hidden><div class=\"sk-item\"><div class=\"sk-estimator sk-toggleable\"><input class=\"sk-toggleable__control sk-hidden--visually\" id=\"sk-estimator-id-1\" type=\"checkbox\" checked><label for=\"sk-estimator-id-1\" class=\"sk-toggleable__label sk-toggleable__label-arrow\">KNeighborsClassifier</label><div class=\"sk-toggleable__content\"><pre>KNeighborsClassifier()</pre></div></div></div></div></div>"
            ],
            "text/plain": [
              "KNeighborsClassifier()"
            ]
          },
          "execution_count": 10,
          "metadata": {},
          "output_type": "execute_result"
        }
      ],
      "source": [
        "# introduce the classifier with default values\n",
        "from sklearn.neighbors import KNeighborsClassifier\n",
        "knn = KNeighborsClassifier()\n",
        "knn.fit(data_train, target_train)"
      ]
    },
    {
      "cell_type": "code",
      "execution_count": 11,
      "id": "131862fb",
      "metadata": {
        "colab": {
          "base_uri": "https://localhost:8080/"
        },
        "id": "131862fb",
        "outputId": "2db837d6-9ba4-4eb4-c838-216c4b6f98f8"
      },
      "outputs": [
        {
          "name": "stdout",
          "output_type": "stream",
          "text": [
            "Baseline performance using k Nearest Neighbors\n",
            "Accuracy: 0.21\n",
            "F1-score: 0.21\n"
          ]
        }
      ],
      "source": [
        "# evaluate perfomance of classifier with default values\n",
        "from sklearn.metrics import f1_score, accuracy_score\n",
        "from sklearn.metrics import confusion_matrix\n",
        "from sklearn.metrics import classification_report\n",
        "\n",
        "target_prediction = knn.predict(data_test)\n",
        "\n",
        "base_accuracy = accuracy_score(target_test, target_prediction)\n",
        "base_f1_weighted = f1_score(target_test, target_prediction, average='weighted')\n",
        "print(\"Baseline performance using k Nearest Neighbors\")\n",
        "print(f\"Accuracy: {base_accuracy:.2f}\")\n",
        "print(f\"F1-score: {base_f1_weighted:.2f}\")\n",
        "\n",
        "#print(confusion_matrix(target_test, target_prediction))\n",
        "#print(classification_report(target_test, target_prediction))"
      ]
    },
    {
      "cell_type": "code",
      "execution_count": null,
      "metadata": {},
      "outputs": [],
      "source": [
        "# use Grid Search Cross-Validation for hyperparameter tuning\n",
        "from sklearn.model_selection import StratifiedKFold\n",
        "from sklearn.model_selection import GridSearchCV\n",
        "\n",
        "X = data_train\n",
        "y = target_train\n",
        "\n",
        "knn = KNeighborsClassifier(weights='distance', p=1)\n",
        "\n",
        "k_range = list(range(10,20))\n",
        "#weight_options = [\"uniform\", \"distance\"]\n",
        "#leaf_size=[10,20,30,40,50,60]\n",
        "#p=[1,2,3,4,5]\n",
        "#algorithm=['auto', 'ball_tree', 'kd_tree', 'brute']\n",
        "\n",
        "stratified_5_fold_cv = StratifiedKFold(n_splits=5, shuffle=True, random_state=42)\n",
        "\n",
        "#param_grid = dict(n_neighbors = k_range, weights = weight_options,algorithm= algorithm ,leaf_size = leaf_size , p =p)\n",
        "param_grid = dict(n_neighbors = k_range)\n",
        "\n",
        "\n",
        "\n",
        "grid_search_estimator = GridSearchCV(knn, param_grid, cv = stratified_5_fold_cv, scoring = 'f1_weighted', return_train_score=False)\n",
        "grid_search_estimator.fit(X,y)\n",
        "\n",
        "# # print the results of all hyper-parameter combinations\n",
        "results = pd.DataFrame(grid_search_estimator.cv_results_)\n",
        "#results = pd.DataFrame(random_search_estimator.cv_results_)\n",
        "display(results)\n",
        "\n",
        "\n",
        "print(\"best score is {} with params {}\".format(grid_search_estimator.best_score_, grid_search_estimator.best_params_))"
      ]
    },
    {
      "cell_type": "code",
      "execution_count": 12,
      "id": "KHP5AEb7d9ma",
      "metadata": {
        "id": "KHP5AEb7d9ma"
      },
      "outputs": [
        {
          "data": {
            "text/html": [
              "<div>\n",
              "<style scoped>\n",
              "    .dataframe tbody tr th:only-of-type {\n",
              "        vertical-align: middle;\n",
              "    }\n",
              "\n",
              "    .dataframe tbody tr th {\n",
              "        vertical-align: top;\n",
              "    }\n",
              "\n",
              "    .dataframe thead th {\n",
              "        text-align: right;\n",
              "    }\n",
              "</style>\n",
              "<table border=\"1\" class=\"dataframe\">\n",
              "  <thead>\n",
              "    <tr style=\"text-align: right;\">\n",
              "      <th></th>\n",
              "      <th>mean_fit_time</th>\n",
              "      <th>std_fit_time</th>\n",
              "      <th>mean_score_time</th>\n",
              "      <th>std_score_time</th>\n",
              "      <th>param_n_neighbors</th>\n",
              "      <th>params</th>\n",
              "      <th>split0_test_score</th>\n",
              "      <th>split1_test_score</th>\n",
              "      <th>split2_test_score</th>\n",
              "      <th>split3_test_score</th>\n",
              "      <th>split4_test_score</th>\n",
              "      <th>mean_test_score</th>\n",
              "      <th>std_test_score</th>\n",
              "      <th>rank_test_score</th>\n",
              "    </tr>\n",
              "  </thead>\n",
              "  <tbody>\n",
              "    <tr>\n",
              "      <th>0</th>\n",
              "      <td>0.529172</td>\n",
              "      <td>0.179348</td>\n",
              "      <td>60.856533</td>\n",
              "      <td>4.781638</td>\n",
              "      <td>10</td>\n",
              "      <td>{'n_neighbors': 10}</td>\n",
              "      <td>0.472388</td>\n",
              "      <td>0.478668</td>\n",
              "      <td>0.473212</td>\n",
              "      <td>0.476559</td>\n",
              "      <td>0.480322</td>\n",
              "      <td>0.476230</td>\n",
              "      <td>0.003055</td>\n",
              "      <td>10</td>\n",
              "    </tr>\n",
              "    <tr>\n",
              "      <th>1</th>\n",
              "      <td>0.586982</td>\n",
              "      <td>0.255898</td>\n",
              "      <td>57.709775</td>\n",
              "      <td>3.899264</td>\n",
              "      <td>11</td>\n",
              "      <td>{'n_neighbors': 11}</td>\n",
              "      <td>0.474946</td>\n",
              "      <td>0.479637</td>\n",
              "      <td>0.474496</td>\n",
              "      <td>0.478463</td>\n",
              "      <td>0.482009</td>\n",
              "      <td>0.477910</td>\n",
              "      <td>0.002847</td>\n",
              "      <td>8</td>\n",
              "    </tr>\n",
              "    <tr>\n",
              "      <th>2</th>\n",
              "      <td>0.396776</td>\n",
              "      <td>0.043302</td>\n",
              "      <td>57.599464</td>\n",
              "      <td>2.085454</td>\n",
              "      <td>12</td>\n",
              "      <td>{'n_neighbors': 12}</td>\n",
              "      <td>0.474290</td>\n",
              "      <td>0.479474</td>\n",
              "      <td>0.474828</td>\n",
              "      <td>0.478848</td>\n",
              "      <td>0.481799</td>\n",
              "      <td>0.477848</td>\n",
              "      <td>0.002865</td>\n",
              "      <td>9</td>\n",
              "    </tr>\n",
              "    <tr>\n",
              "      <th>3</th>\n",
              "      <td>0.447640</td>\n",
              "      <td>0.035758</td>\n",
              "      <td>57.696158</td>\n",
              "      <td>3.887982</td>\n",
              "      <td>13</td>\n",
              "      <td>{'n_neighbors': 13}</td>\n",
              "      <td>0.476403</td>\n",
              "      <td>0.481921</td>\n",
              "      <td>0.475271</td>\n",
              "      <td>0.479152</td>\n",
              "      <td>0.483552</td>\n",
              "      <td>0.479260</td>\n",
              "      <td>0.003149</td>\n",
              "      <td>7</td>\n",
              "    </tr>\n",
              "    <tr>\n",
              "      <th>4</th>\n",
              "      <td>0.469402</td>\n",
              "      <td>0.148919</td>\n",
              "      <td>58.488751</td>\n",
              "      <td>2.325209</td>\n",
              "      <td>14</td>\n",
              "      <td>{'n_neighbors': 14}</td>\n",
              "      <td>0.477241</td>\n",
              "      <td>0.482607</td>\n",
              "      <td>0.475127</td>\n",
              "      <td>0.480962</td>\n",
              "      <td>0.484301</td>\n",
              "      <td>0.480048</td>\n",
              "      <td>0.003393</td>\n",
              "      <td>6</td>\n",
              "    </tr>\n",
              "    <tr>\n",
              "      <th>5</th>\n",
              "      <td>0.482646</td>\n",
              "      <td>0.088750</td>\n",
              "      <td>58.080715</td>\n",
              "      <td>1.831287</td>\n",
              "      <td>15</td>\n",
              "      <td>{'n_neighbors': 15}</td>\n",
              "      <td>0.478061</td>\n",
              "      <td>0.482926</td>\n",
              "      <td>0.476549</td>\n",
              "      <td>0.482583</td>\n",
              "      <td>0.484777</td>\n",
              "      <td>0.480979</td>\n",
              "      <td>0.003128</td>\n",
              "      <td>3</td>\n",
              "    </tr>\n",
              "    <tr>\n",
              "      <th>6</th>\n",
              "      <td>0.448617</td>\n",
              "      <td>0.066528</td>\n",
              "      <td>61.877494</td>\n",
              "      <td>3.542331</td>\n",
              "      <td>16</td>\n",
              "      <td>{'n_neighbors': 16}</td>\n",
              "      <td>0.478918</td>\n",
              "      <td>0.483599</td>\n",
              "      <td>0.478540</td>\n",
              "      <td>0.482610</td>\n",
              "      <td>0.482214</td>\n",
              "      <td>0.481176</td>\n",
              "      <td>0.002052</td>\n",
              "      <td>1</td>\n",
              "    </tr>\n",
              "    <tr>\n",
              "      <th>7</th>\n",
              "      <td>0.650988</td>\n",
              "      <td>0.227684</td>\n",
              "      <td>55.384170</td>\n",
              "      <td>3.385401</td>\n",
              "      <td>17</td>\n",
              "      <td>{'n_neighbors': 17}</td>\n",
              "      <td>0.478985</td>\n",
              "      <td>0.482198</td>\n",
              "      <td>0.479081</td>\n",
              "      <td>0.482254</td>\n",
              "      <td>0.482130</td>\n",
              "      <td>0.480930</td>\n",
              "      <td>0.001550</td>\n",
              "      <td>4</td>\n",
              "    </tr>\n",
              "    <tr>\n",
              "      <th>8</th>\n",
              "      <td>0.386345</td>\n",
              "      <td>0.031357</td>\n",
              "      <td>54.164709</td>\n",
              "      <td>2.636708</td>\n",
              "      <td>18</td>\n",
              "      <td>{'n_neighbors': 18}</td>\n",
              "      <td>0.478790</td>\n",
              "      <td>0.482702</td>\n",
              "      <td>0.477411</td>\n",
              "      <td>0.482968</td>\n",
              "      <td>0.480683</td>\n",
              "      <td>0.480511</td>\n",
              "      <td>0.002165</td>\n",
              "      <td>5</td>\n",
              "    </tr>\n",
              "    <tr>\n",
              "      <th>9</th>\n",
              "      <td>0.432186</td>\n",
              "      <td>0.083098</td>\n",
              "      <td>54.235468</td>\n",
              "      <td>2.671531</td>\n",
              "      <td>19</td>\n",
              "      <td>{'n_neighbors': 19}</td>\n",
              "      <td>0.478866</td>\n",
              "      <td>0.484146</td>\n",
              "      <td>0.479497</td>\n",
              "      <td>0.481313</td>\n",
              "      <td>0.481132</td>\n",
              "      <td>0.480991</td>\n",
              "      <td>0.001834</td>\n",
              "      <td>2</td>\n",
              "    </tr>\n",
              "  </tbody>\n",
              "</table>\n",
              "</div>"
            ],
            "text/plain": [
              "   mean_fit_time  std_fit_time  mean_score_time  std_score_time  \\\n",
              "0       0.529172      0.179348        60.856533        4.781638   \n",
              "1       0.586982      0.255898        57.709775        3.899264   \n",
              "2       0.396776      0.043302        57.599464        2.085454   \n",
              "3       0.447640      0.035758        57.696158        3.887982   \n",
              "4       0.469402      0.148919        58.488751        2.325209   \n",
              "5       0.482646      0.088750        58.080715        1.831287   \n",
              "6       0.448617      0.066528        61.877494        3.542331   \n",
              "7       0.650988      0.227684        55.384170        3.385401   \n",
              "8       0.386345      0.031357        54.164709        2.636708   \n",
              "9       0.432186      0.083098        54.235468        2.671531   \n",
              "\n",
              "  param_n_neighbors               params  split0_test_score  \\\n",
              "0                10  {'n_neighbors': 10}           0.472388   \n",
              "1                11  {'n_neighbors': 11}           0.474946   \n",
              "2                12  {'n_neighbors': 12}           0.474290   \n",
              "3                13  {'n_neighbors': 13}           0.476403   \n",
              "4                14  {'n_neighbors': 14}           0.477241   \n",
              "5                15  {'n_neighbors': 15}           0.478061   \n",
              "6                16  {'n_neighbors': 16}           0.478918   \n",
              "7                17  {'n_neighbors': 17}           0.478985   \n",
              "8                18  {'n_neighbors': 18}           0.478790   \n",
              "9                19  {'n_neighbors': 19}           0.478866   \n",
              "\n",
              "   split1_test_score  split2_test_score  split3_test_score  split4_test_score  \\\n",
              "0           0.478668           0.473212           0.476559           0.480322   \n",
              "1           0.479637           0.474496           0.478463           0.482009   \n",
              "2           0.479474           0.474828           0.478848           0.481799   \n",
              "3           0.481921           0.475271           0.479152           0.483552   \n",
              "4           0.482607           0.475127           0.480962           0.484301   \n",
              "5           0.482926           0.476549           0.482583           0.484777   \n",
              "6           0.483599           0.478540           0.482610           0.482214   \n",
              "7           0.482198           0.479081           0.482254           0.482130   \n",
              "8           0.482702           0.477411           0.482968           0.480683   \n",
              "9           0.484146           0.479497           0.481313           0.481132   \n",
              "\n",
              "   mean_test_score  std_test_score  rank_test_score  \n",
              "0         0.476230        0.003055               10  \n",
              "1         0.477910        0.002847                8  \n",
              "2         0.477848        0.002865                9  \n",
              "3         0.479260        0.003149                7  \n",
              "4         0.480048        0.003393                6  \n",
              "5         0.480979        0.003128                3  \n",
              "6         0.481176        0.002052                1  \n",
              "7         0.480930        0.001550                4  \n",
              "8         0.480511        0.002165                5  \n",
              "9         0.480991        0.001834                2  "
            ]
          },
          "metadata": {},
          "output_type": "display_data"
        },
        {
          "name": "stdout",
          "output_type": "stream",
          "text": [
            "best score is 0.48117609556717345 with params {'n_neighbors': 16}\n"
          ]
        }
      ],
      "source": [
        "# use Grid Search Cross-Validation for hyperparameter tuning\n",
        "from sklearn.model_selection import StratifiedKFold\n",
        "from sklearn.model_selection import GridSearchCV\n",
        "\n",
        "X = data_train\n",
        "y = target_train\n",
        "\n",
        "knn = KNeighborsClassifier(weights='distance', p=1)\n",
        "\n",
        "k_range = list(range(10,20))\n",
        "\n",
        "stratified_5_fold_cv = StratifiedKFold(n_splits=5, shuffle=True, random_state=42)\n",
        "\n",
        "\n",
        "param_grid = dict(n_neighbors = k_range)\n",
        "\n",
        "\n",
        "grid_search_estimator = GridSearchCV(knn, param_grid, cv = stratified_5_fold_cv, scoring = 'f1_weighted', return_train_score=False)\n",
        "grid_search_estimator.fit(X,y)\n",
        "\n",
        "# print the results of all hyper-parameter combinations\n",
        "results = pd.DataFrame(grid_search_estimator.cv_results_)\n",
        "\n",
        "display(results)\n",
        "\n",
        "\n",
        "print(\"best score is {} with params {}\".format(grid_search_estimator.best_score_, grid_search_estimator.best_params_))"
      ]
    },
    {
      "cell_type": "code",
      "execution_count": null,
      "metadata": {},
      "outputs": [],
      "source": [
        "# run the model with the best hyperparameter\n",
        "knn = KNeighborsClassifier(n_neighbors=16, weights='distance', p=1)\n",
        "knn.fit(data_train, target_train)\n",
        "target_prediction = knn.predict(data_test)\n",
        "\n",
        "accuracy = accuracy_score(target_test, target_prediction)\n",
        "f1_weighted = f1_score(target_test, target_prediction, average='weighted')\n",
        "print(\"Performance using k Nearest Neighbors on unbalanced data set\")\n",
        "print(f\"Accuracy: {accuracy:.2f} i.e. {accuracy-base_accuracy} better than baseline\")\n",
        "print(f\"F1-score: {f1_weighted:.2f} i.e. {f1_weighted-base_f1_weighted} better than baseline\")"
      ]
    },
    {
      "cell_type": "markdown",
      "metadata": {},
      "source": [
        "# Reducing dimensionality of data set with Principal Component Analysis"
      ]
    },
    {
      "cell_type": "code",
      "execution_count": 16,
      "id": "0DpGhGz9d9mb",
      "metadata": {
        "colab": {
          "base_uri": "https://localhost:8080/",
          "height": 564
        },
        "id": "0DpGhGz9d9mb",
        "outputId": "cd3fa21a-c47c-4044-8828-86939985e4a2"
      },
      "outputs": [
        {
          "data": {
            "image/png": "[encoded data removed]",
            "text/plain": [
              "<Figure size 1500x600 with 1 Axes>"
            ]
          },
          "metadata": {},
          "output_type": "display_data"
        }
      ],
      "source": [
        "# reducing dimensionality using PCA: plot cumulative variance values depending on number of components\n",
        "from sklearn.decomposition import PCA\n",
        "pca = PCA().fit(data_train)\n",
        "\n",
        "#% matplotlib inline\n",
        "import matplotlib.pyplot as plt\n",
        "plt.rcParams[\"figure.figsize\"] = (15,6)\n",
        "\n",
        "fig, ax = plt.subplots()\n",
        "xi = np.arange(1, 16, step=1)\n",
        "y = np.cumsum(pca.explained_variance_ratio_)\n",
        "\n",
        "plt.ylim(0.0,1.1)\n",
        "plt.plot(xi, y, marker='o', linestyle='--', color='b')\n",
        "\n",
        "plt.xlabel('Number of Components')\n",
        "plt.xticks(np.arange(0, 15, step=1)) #change from 0-based array index to 1-based human-readable label\n",
        "plt.ylabel('Cumulative variance (%)')\n",
        "plt.title('The number of components needed to explain variance')\n",
        "\n",
        "plt.axhline(y=0.95, color='r', linestyle='-')\n",
        "plt.text(0.5, 0.85, '95% cut-off threshold', color = 'red', fontsize=16)\n",
        "\n",
        "ax.grid(axis='x')\n",
        "plt.show()"
      ]
    },
    {
      "cell_type": "code",
      "execution_count": 17,
      "id": "5Dyq8KCad9mb",
      "metadata": {
        "colab": {
          "base_uri": "https://localhost:8080/"
        },
        "id": "5Dyq8KCad9mb",
        "outputId": "8dcef1b5-888e-4a77-8a18-b19e6f98e9e5"
      },
      "outputs": [
        {
          "name": "stdout",
          "output_type": "stream",
          "text": [
            "Training Data Shape: (71792, 15) Original Test Data Shape: (17948, 15)\n",
            "Reduced Training Data Shape: (71792, 13) Reduced Test Data Shape: (17948, 13)\n"
          ]
        }
      ],
      "source": [
        "# transform train and test data set to reduced data sets (0.95 cumulative variance, - 13 components) \n",
        "from sklearn.decomposition import PCA\n",
        "pca = PCA(n_components = 0.95)\n",
        "\n",
        "data_train_reduced = pca.fit_transform(data_train)\n",
        "data_test_reduced = pca.transform(data_test)\n",
        "\n",
        "explained_variance = pca.explained_variance_ratio_\n",
        "\n",
        "print(explained_variance)\n",
        "print(\"Training Data Shape:\", data_train.shape, \"Original Test Data Shape:\", data_test.shape)\n",
        "print(\"Reduced Training Data Shape:\", data_train_reduced.shape, \"Reduced Test Data Shape:\", data_test_reduced.shape)"
      ]
    },
    {
      "cell_type": "code",
      "execution_count": 20,
      "id": "gDnteJ48d9mb",
      "metadata": {
        "id": "gDnteJ48d9mb"
      },
      "outputs": [
        {
          "data": {
            "text/html": [
              "<div>\n",
              "<style scoped>\n",
              "    .dataframe tbody tr th:only-of-type {\n",
              "        vertical-align: middle;\n",
              "    }\n",
              "\n",
              "    .dataframe tbody tr th {\n",
              "        vertical-align: top;\n",
              "    }\n",
              "\n",
              "    .dataframe thead th {\n",
              "        text-align: right;\n",
              "    }\n",
              "</style>\n",
              "<table border=\"1\" class=\"dataframe\">\n",
              "  <thead>\n",
              "    <tr style=\"text-align: right;\">\n",
              "      <th></th>\n",
              "      <th>mean_fit_time</th>\n",
              "      <th>std_fit_time</th>\n",
              "      <th>mean_score_time</th>\n",
              "      <th>std_score_time</th>\n",
              "      <th>param_n_neighbors</th>\n",
              "      <th>params</th>\n",
              "      <th>split0_test_score</th>\n",
              "      <th>split1_test_score</th>\n",
              "      <th>split2_test_score</th>\n",
              "      <th>split3_test_score</th>\n",
              "      <th>split4_test_score</th>\n",
              "      <th>mean_test_score</th>\n",
              "      <th>std_test_score</th>\n",
              "      <th>rank_test_score</th>\n",
              "    </tr>\n",
              "  </thead>\n",
              "  <tbody>\n",
              "    <tr>\n",
              "      <th>0</th>\n",
              "      <td>0.382634</td>\n",
              "      <td>0.070687</td>\n",
              "      <td>26.809729</td>\n",
              "      <td>2.035789</td>\n",
              "      <td>10</td>\n",
              "      <td>{'n_neighbors': 10}</td>\n",
              "      <td>0.446081</td>\n",
              "      <td>0.451144</td>\n",
              "      <td>0.442714</td>\n",
              "      <td>0.451735</td>\n",
              "      <td>0.445250</td>\n",
              "      <td>0.447385</td>\n",
              "      <td>0.003496</td>\n",
              "      <td>9</td>\n",
              "    </tr>\n",
              "    <tr>\n",
              "      <th>1</th>\n",
              "      <td>0.352346</td>\n",
              "      <td>0.040376</td>\n",
              "      <td>25.650929</td>\n",
              "      <td>1.465848</td>\n",
              "      <td>11</td>\n",
              "      <td>{'n_neighbors': 11}</td>\n",
              "      <td>0.445568</td>\n",
              "      <td>0.450439</td>\n",
              "      <td>0.443779</td>\n",
              "      <td>0.450885</td>\n",
              "      <td>0.445787</td>\n",
              "      <td>0.447292</td>\n",
              "      <td>0.002842</td>\n",
              "      <td>10</td>\n",
              "    </tr>\n",
              "    <tr>\n",
              "      <th>2</th>\n",
              "      <td>0.341279</td>\n",
              "      <td>0.057870</td>\n",
              "      <td>24.055796</td>\n",
              "      <td>0.888122</td>\n",
              "      <td>12</td>\n",
              "      <td>{'n_neighbors': 12}</td>\n",
              "      <td>0.446030</td>\n",
              "      <td>0.450815</td>\n",
              "      <td>0.443548</td>\n",
              "      <td>0.450293</td>\n",
              "      <td>0.447786</td>\n",
              "      <td>0.447694</td>\n",
              "      <td>0.002700</td>\n",
              "      <td>8</td>\n",
              "    </tr>\n",
              "    <tr>\n",
              "      <th>3</th>\n",
              "      <td>0.333308</td>\n",
              "      <td>0.027318</td>\n",
              "      <td>24.650230</td>\n",
              "      <td>1.010848</td>\n",
              "      <td>13</td>\n",
              "      <td>{'n_neighbors': 13}</td>\n",
              "      <td>0.446707</td>\n",
              "      <td>0.452224</td>\n",
              "      <td>0.446196</td>\n",
              "      <td>0.450818</td>\n",
              "      <td>0.448644</td>\n",
              "      <td>0.448918</td>\n",
              "      <td>0.002320</td>\n",
              "      <td>7</td>\n",
              "    </tr>\n",
              "    <tr>\n",
              "      <th>4</th>\n",
              "      <td>0.330396</td>\n",
              "      <td>0.028441</td>\n",
              "      <td>24.626776</td>\n",
              "      <td>0.505330</td>\n",
              "      <td>14</td>\n",
              "      <td>{'n_neighbors': 14}</td>\n",
              "      <td>0.447570</td>\n",
              "      <td>0.452797</td>\n",
              "      <td>0.447796</td>\n",
              "      <td>0.449445</td>\n",
              "      <td>0.448493</td>\n",
              "      <td>0.449220</td>\n",
              "      <td>0.001904</td>\n",
              "      <td>6</td>\n",
              "    </tr>\n",
              "    <tr>\n",
              "      <th>5</th>\n",
              "      <td>0.321450</td>\n",
              "      <td>0.009312</td>\n",
              "      <td>25.295014</td>\n",
              "      <td>0.401156</td>\n",
              "      <td>15</td>\n",
              "      <td>{'n_neighbors': 15}</td>\n",
              "      <td>0.447834</td>\n",
              "      <td>0.452722</td>\n",
              "      <td>0.449780</td>\n",
              "      <td>0.450492</td>\n",
              "      <td>0.449504</td>\n",
              "      <td>0.450067</td>\n",
              "      <td>0.001588</td>\n",
              "      <td>3</td>\n",
              "    </tr>\n",
              "    <tr>\n",
              "      <th>6</th>\n",
              "      <td>0.319324</td>\n",
              "      <td>0.024697</td>\n",
              "      <td>25.537200</td>\n",
              "      <td>0.436036</td>\n",
              "      <td>16</td>\n",
              "      <td>{'n_neighbors': 16}</td>\n",
              "      <td>0.448215</td>\n",
              "      <td>0.452332</td>\n",
              "      <td>0.448232</td>\n",
              "      <td>0.450637</td>\n",
              "      <td>0.449241</td>\n",
              "      <td>0.449731</td>\n",
              "      <td>0.001573</td>\n",
              "      <td>4</td>\n",
              "    </tr>\n",
              "    <tr>\n",
              "      <th>7</th>\n",
              "      <td>0.343886</td>\n",
              "      <td>0.070097</td>\n",
              "      <td>27.585493</td>\n",
              "      <td>2.717617</td>\n",
              "      <td>17</td>\n",
              "      <td>{'n_neighbors': 17}</td>\n",
              "      <td>0.449070</td>\n",
              "      <td>0.452839</td>\n",
              "      <td>0.445874</td>\n",
              "      <td>0.450550</td>\n",
              "      <td>0.449309</td>\n",
              "      <td>0.449528</td>\n",
              "      <td>0.002263</td>\n",
              "      <td>5</td>\n",
              "    </tr>\n",
              "    <tr>\n",
              "      <th>8</th>\n",
              "      <td>0.492455</td>\n",
              "      <td>0.228493</td>\n",
              "      <td>238.533934</td>\n",
              "      <td>420.642041</td>\n",
              "      <td>18</td>\n",
              "      <td>{'n_neighbors': 18}</td>\n",
              "      <td>0.448971</td>\n",
              "      <td>0.452903</td>\n",
              "      <td>0.448125</td>\n",
              "      <td>0.451159</td>\n",
              "      <td>0.450818</td>\n",
              "      <td>0.450395</td>\n",
              "      <td>0.001687</td>\n",
              "      <td>2</td>\n",
              "    </tr>\n",
              "    <tr>\n",
              "      <th>9</th>\n",
              "      <td>0.317123</td>\n",
              "      <td>0.008396</td>\n",
              "      <td>26.805509</td>\n",
              "      <td>1.120413</td>\n",
              "      <td>19</td>\n",
              "      <td>{'n_neighbors': 19}</td>\n",
              "      <td>0.449333</td>\n",
              "      <td>0.454066</td>\n",
              "      <td>0.447516</td>\n",
              "      <td>0.452064</td>\n",
              "      <td>0.451041</td>\n",
              "      <td>0.450804</td>\n",
              "      <td>0.002248</td>\n",
              "      <td>1</td>\n",
              "    </tr>\n",
              "  </tbody>\n",
              "</table>\n",
              "</div>"
            ],
            "text/plain": [
              "   mean_fit_time  std_fit_time  mean_score_time  std_score_time  \\\n",
              "0       0.382634      0.070687        26.809729        2.035789   \n",
              "1       0.352346      0.040376        25.650929        1.465848   \n",
              "2       0.341279      0.057870        24.055796        0.888122   \n",
              "3       0.333308      0.027318        24.650230        1.010848   \n",
              "4       0.330396      0.028441        24.626776        0.505330   \n",
              "5       0.321450      0.009312        25.295014        0.401156   \n",
              "6       0.319324      0.024697        25.537200        0.436036   \n",
              "7       0.343886      0.070097        27.585493        2.717617   \n",
              "8       0.492455      0.228493       238.533934      420.642041   \n",
              "9       0.317123      0.008396        26.805509        1.120413   \n",
              "\n",
              "  param_n_neighbors               params  split0_test_score  \\\n",
              "0                10  {'n_neighbors': 10}           0.446081   \n",
              "1                11  {'n_neighbors': 11}           0.445568   \n",
              "2                12  {'n_neighbors': 12}           0.446030   \n",
              "3                13  {'n_neighbors': 13}           0.446707   \n",
              "4                14  {'n_neighbors': 14}           0.447570   \n",
              "5                15  {'n_neighbors': 15}           0.447834   \n",
              "6                16  {'n_neighbors': 16}           0.448215   \n",
              "7                17  {'n_neighbors': 17}           0.449070   \n",
              "8                18  {'n_neighbors': 18}           0.448971   \n",
              "9                19  {'n_neighbors': 19}           0.449333   \n",
              "\n",
              "   split1_test_score  split2_test_score  split3_test_score  split4_test_score  \\\n",
              "0           0.451144           0.442714           0.451735           0.445250   \n",
              "1           0.450439           0.443779           0.450885           0.445787   \n",
              "2           0.450815           0.443548           0.450293           0.447786   \n",
              "3           0.452224           0.446196           0.450818           0.448644   \n",
              "4           0.452797           0.447796           0.449445           0.448493   \n",
              "5           0.452722           0.449780           0.450492           0.449504   \n",
              "6           0.452332           0.448232           0.450637           0.449241   \n",
              "7           0.452839           0.445874           0.450550           0.449309   \n",
              "8           0.452903           0.448125           0.451159           0.450818   \n",
              "9           0.454066           0.447516           0.452064           0.451041   \n",
              "\n",
              "   mean_test_score  std_test_score  rank_test_score  \n",
              "0         0.447385        0.003496                9  \n",
              "1         0.447292        0.002842               10  \n",
              "2         0.447694        0.002700                8  \n",
              "3         0.448918        0.002320                7  \n",
              "4         0.449220        0.001904                6  \n",
              "5         0.450067        0.001588                3  \n",
              "6         0.449731        0.001573                4  \n",
              "7         0.449528        0.002263                5  \n",
              "8         0.450395        0.001687                2  \n",
              "9         0.450804        0.002248                1  "
            ]
          },
          "metadata": {},
          "output_type": "display_data"
        },
        {
          "name": "stdout",
          "output_type": "stream",
          "text": [
            "best score for reduced data set is 0.45080380230788963 with params {'n_neighbors': 19}\n"
          ]
        }
      ],
      "source": [
        "# tune hyperparameters on reduced data set\n",
        "X = data_train_reduced\n",
        "y = target_train\n",
        "knn = KNeighborsClassifier(weights='distance', p=1)\n",
        "grid_search_estimator.fit(X,y)\n",
        "\n",
        "results = pd.DataFrame(grid_search_estimator.cv_results_)\n",
        "display(results)\n",
        "\n",
        "print(\"best score for reduced data set is {} with params {}\".format(grid_search_estimator.best_score_, grid_search_estimator.best_params_))"
      ]
    },
    {
      "cell_type": "code",
      "execution_count": 21,
      "id": "JXYkDFbXhtn1",
      "metadata": {
        "colab": {
          "base_uri": "https://localhost:8080/"
        },
        "id": "JXYkDFbXhtn1",
        "outputId": "27c56803-384c-487a-ecd7-5c985d855d0d"
      },
      "outputs": [
        {
          "name": "stdout",
          "output_type": "stream",
          "text": [
            "Performance using k Nearest Neighbors on unbalanced reduced data set\n",
            "Accuracy: 0.47 i.e. 0.010084689101849786 better than baseline\n",
            "F1-score: 0.46 i.e. 0.006620137065131149 better than baseline\n"
          ]
        }
      ],
      "source": [
        "knn = KNeighborsClassifier(n_neighbors=19, weights='distance', p=1)\n",
        "knn.fit(data_train_reduced, target_train)\n",
        "target_prediction = knn.predict(data_test_reduced)\n",
        "\n",
        "accuracy = accuracy_score(target_test, target_prediction)\n",
        "f1_weighted = f1_score(target_test, target_prediction, average='weighted')\n",
        "print(\"Performance using k Nearest Neighbors on unbalanced reduced data set\")\n",
        "print(f\"Accuracy: {accuracy:.2f} i.e. {accuracy-base_accuracy} better than baseline\")\n",
        "print(f\"F1-score: {f1_weighted:.2f} i.e. {f1_weighted-base_f1_weighted} better than baseline\")"
      ]
    },
    {
      "cell_type": "markdown",
      "metadata": {},
      "source": [
        "# Balancing data: oversampling"
      ]
    },
    {
      "cell_type": "code",
      "execution_count": 23,
      "id": "Xo3RjaTtd9mb",
      "metadata": {
        "colab": {
          "base_uri": "https://localhost:8080/"
        },
        "id": "Xo3RjaTtd9mb",
        "outputId": "1b2f50c3-30e0-4567-9edc-67b2ea640470"
      },
      "outputs": [
        {
          "name": "stdout",
          "output_type": "stream",
          "text": [
            "Original Training Data Shape: (71792, 15) Original Target Shape: (71792,)\n",
            "Resampled Training Data Shape (oversampling): (198680, 15) Resampled Target Shape(oversampled): (198680,)\n"
          ]
        }
      ],
      "source": [
        "# try oversampling on complete data\n",
        "from imblearn.over_sampling import RandomOverSampler\n",
        "ros = RandomOverSampler()\n",
        "data_train_ros, target_train_ros = ros.fit_resample(data_train, target_train)\n",
        "print(\"Original Training Data Shape:\", data_train.shape, \"Original Target Shape:\", target_train.shape)\n",
        "print(\"Resampled Training Data Shape (oversampling):\", data_train_ros.shape, \"Resampled Target Shape(oversampled):\", target_train_ros.shape)"
      ]
    },
    {
      "cell_type": "code",
      "execution_count": 26,
      "id": "1varkW8Ed9mc",
      "metadata": {
        "id": "1varkW8Ed9mc"
      },
      "outputs": [],
      "source": [
        "from sklearn.model_selection import StratifiedKFold\n",
        "from sklearn.model_selection import GridSearchCV\n",
        "\n",
        "# tune hyperparameters on oversampled data test\n",
        "X = data_train_ros\n",
        "y = target_train_ros\n",
        "knn = KNeighborsClassifier(weights='distance', p=1)\n",
        "\n",
        "grid_search_estimator.fit(X,y)\n",
        "\n",
        "# print the results of all hyper-parameter combinations\n",
        "results = pd.DataFrame(grid_search_estimator.cv_results_)\n",
        "#results = pd.DataFrame(random_search_estimator.cv_results_)\n",
        "display(results)\n",
        "\n",
        "print(\"best score for balanced data set (oversampling) is {} with params {}\".format(grid_search_estimator.best_score_, grid_search_estimator.best_params_))"
      ]
    },
    {
      "cell_type": "code",
      "execution_count": null,
      "metadata": {},
      "outputs": [],
      "source": [
        "knn = KNeighborsClassifier(n_neighbors=10, weights='distance', p=1)\n",
        "knn.fit(data_train_ros, target_train_ros)\n",
        "target_prediction = knn.predict(data_test)\n",
        "\n",
        "accuracy = accuracy_score(target_test, target_prediction)\n",
        "f1_weighted = f1_score(target_test, target_prediction, average='weighted')\n",
        "print(\"Performance using k Nearest Neighbors on oversampled complete data set\")\n",
        "print(f\"Accuracy: {accuracy:.2f} i.e. {accuracy-base_accuracy} better than baseline\")\n",
        "print(f\"F1-score: {f1_weighted:.2f} i.e. {f1_weighted-base_f1_weighted} better than baseline\")"
      ]
    },
    {
      "cell_type": "markdown",
      "metadata": {},
      "source": [
        "# Oversampling combined with PCA"
      ]
    },
    {
      "cell_type": "code",
      "execution_count": null,
      "id": "xXQTeQ06d9mc",
      "metadata": {
        "colab": {
          "base_uri": "https://localhost:8080/"
        },
        "id": "xXQTeQ06d9mc",
        "outputId": "31b454d6-427b-4f63-94ec-399d51cadb4d"
      },
      "outputs": [
        {
          "name": "stdout",
          "output_type": "stream",
          "text": [
            "Resampled Training Data Shape (oversampling): (91200, 15) Original Test Data Shape: (17948, 15)\n",
            "Reduced resampled Training Data Shape (undersampling): (91200, 13) Reduced Test Data Shape: (17948, 13)\n"
          ]
        }
      ],
      "source": [
        "# transform balanced train (oversampling) to reduced data set\n",
        "pca = PCA(n_components = 0.95)\n",
        "\n",
        "data_train_ros_reduced = pca.fit_transform(data_train_ros)\n",
        "data_test_ros_reduced = pca.transform(data_test)\n",
        "\n",
        "explained_variance = pca.explained_variance_ratio_\n",
        "print(\"Resampled Training Data Shape (oversampling):\", data_train_ros.shape, \"Original Test Data Shape:\", data_test.shape)\n",
        "print(\"Reduced resampled Training Data Shape (undersampling):\", data_train_ros_reduced.shape, \"Reduced Test Data Shape:\", data_test_ros_reduced.shape)"
      ]
    },
    {
      "cell_type": "code",
      "execution_count": null,
      "metadata": {},
      "outputs": [],
      "source": [
        "# tune hyperparameters on oversampled reduced data test\n",
        "X = data_train_ros_reduced\n",
        "y = target_train_ros\n",
        "knn = KNeighborsClassifier(weights='distance', p=1)\n",
        "grid_search_estimator.fit(X,y)\n",
        "\n",
        "# print the results of all hyper-parameter combinations\n",
        "results = pd.DataFrame(grid_search_estimator.cv_results_)\n",
        "display(results)\n",
        "\n",
        "print(\"best score for reduced balanced data set (oversampling) is {} with params {}\".format(grid_search_estimator.best_score_, grid_search_estimator.best_params_))"
      ]
    },
    {
      "cell_type": "code",
      "execution_count": null,
      "id": "P-xm0jbJoXC-",
      "metadata": {
        "colab": {
          "base_uri": "https://localhost:8080/"
        },
        "id": "P-xm0jbJoXC-",
        "outputId": "7362f489-dc4c-419b-c4d2-af04424dc230"
      },
      "outputs": [
        {
          "name": "stdout",
          "output_type": "stream",
          "text": [
            "Performance using k Nearest Neighbors on oversampled reduced data set\n",
            "Accuracy: 0.31 i.e. 0.03092266547804773 better than baseline\n",
            "F1-score: 0.31 i.e. 0.03310570809954755 better than baseline\n"
          ]
        }
      ],
      "source": [
        "knn = KNeighborsClassifier(n_neighbors=21, weights='distance', p=1)\n",
        "knn.fit(data_train_ros_reduced, target_train_ros)\n",
        "target_prediction = knn.predict(data_test_ros_reduced)\n",
        "\n",
        "accuracy = accuracy_score(target_test, target_prediction)\n",
        "f1_weighted = f1_score(target_test, target_prediction, average='weighted')\n",
        "print(\"Performance using k Nearest Neighbors on oversampled reduced data set\")\n",
        "print(f\"Accuracy: {accuracy:.2f} i.e. {accuracy-base_accuracy} better than baseline\")\n",
        "print(f\"F1-score: {f1_weighted:.2f} i.e. {f1_weighted-base_f1_weighted} better than baseline\")"
      ]
    },
    {
      "cell_type": "markdown",
      "metadata": {},
      "source": [
        "# Balancing data: undersampling"
      ]
    },
    {
      "cell_type": "code",
      "execution_count": null,
      "id": "ofGnuyCyd9mc",
      "metadata": {
        "colab": {
          "base_uri": "https://localhost:8080/"
        },
        "id": "ofGnuyCyd9mc",
        "outputId": "5b8a4991-dc6e-4108-fa62-b2a895068ab1"
      },
      "outputs": [
        {
          "name": "stdout",
          "output_type": "stream",
          "text": [
            "Original Training Data Shape: (71792, 15) Original Target Shape: (71792,)\n",
            "Resampled Training Data Shape (undersampling): (22344, 15) Resampled Target Shape(undersampled): (22344,)\n"
          ]
        }
      ],
      "source": [
        "# try undersampling on complete data\n",
        "from imblearn.under_sampling import RandomUnderSampler\n",
        "rus = RandomUnderSampler()\n",
        "data_train_rus, target_train_rus = rus.fit_resample(data_train, target_train)\n",
        "print(\"Original Training Data Shape:\", data_train.shape, \"Original Target Shape:\", target_train.shape)\n",
        "print(\"Resampled Training Data Shape (undersampling):\", data_train_rus.shape, \"Resampled Target Shape(undersampled):\", target_train_rus.shape)"
      ]
    },
    {
      "cell_type": "code",
      "execution_count": null,
      "metadata": {},
      "outputs": [],
      "source": [
        "# tune hyperparameters on undersampled data test\n",
        "X = data_train_rus\n",
        "y = target_train_rus\n",
        "knn = KNeighborsClassifier(weights='distance', p=1)\n",
        "grid_search_estimator.fit(X,y)\n",
        "\n",
        "# # print the results of all hyper-parameter combinations\n",
        "results = pd.DataFrame(grid_search_estimator.cv_results_)\n",
        "\n",
        "display(results)\n",
        "\n",
        "\n",
        "print(\"best score for balanced data set (undersampling) is {} with params {}\".format(grid_search_estimator.best_score_, grid_search_estimator.best_params_))"
      ]
    },
    {
      "cell_type": "code",
      "execution_count": null,
      "id": "nTCi6GNOqiBL",
      "metadata": {
        "colab": {
          "base_uri": "https://localhost:8080/"
        },
        "id": "nTCi6GNOqiBL",
        "outputId": "1b5152c9-55db-46c3-c9a7-b31111c88d32"
      },
      "outputs": [
        {
          "name": "stdout",
          "output_type": "stream",
          "text": [
            "Performance using k Nearest Neighbors on undersampled complete data set\n",
            "Accuracy: 0.30 i.e. 0.01927791397370182 better than baseline\n",
            "F1-score: 0.29 i.e. 0.01666525935648039 better than baseline\n"
          ]
        }
      ],
      "source": [
        "knn = KNeighborsClassifier(n_neighbors=14, weights='distance', p=1)\n",
        "knn.fit(data_train_rus, target_train_rus)\n",
        "target_prediction = knn.predict(data_test)\n",
        "\n",
        "accuracy = accuracy_score(target_test, target_prediction)\n",
        "f1_weighted = f1_score(target_test, target_prediction, average='weighted')\n",
        "print(\"Performance using k Nearest Neighbors on undersampled complete data set\")\n",
        "print(f\"Accuracy: {accuracy:.2f} i.e. {accuracy-base_accuracy} better than baseline\")\n",
        "print(f\"F1-score: {f1_weighted:.2f} i.e. {f1_weighted-base_f1_weighted} better than baseline\")"
      ]
    },
    {
      "cell_type": "markdown",
      "metadata": {},
      "source": [
        "# Undersampling combined with PCA"
      ]
    },
    {
      "cell_type": "code",
      "execution_count": null,
      "id": "jdGmh4n4d9mc",
      "metadata": {
        "colab": {
          "base_uri": "https://localhost:8080/"
        },
        "id": "jdGmh4n4d9mc",
        "outputId": "e20d2b22-d610-4aee-c443-8bec6eb06c82"
      },
      "outputs": [
        {
          "name": "stdout",
          "output_type": "stream",
          "text": [
            "Resampled Training Data Shape (undersampling): (22344, 15) Original Test Data Shape: (17948, 15)\n",
            "Reduced resampled Training Data Shape (undersampling): (22344, 13) Reduced Test Data Shape: (17948, 13)\n"
          ]
        }
      ],
      "source": [
        "# transform balanced train (undersampling) and test data set according to PCA with X components\n",
        "pca = PCA(n_components = 0.95)\n",
        "\n",
        "data_train_rus_reduced = pca.fit_transform(data_train_rus)\n",
        "data_test_rus_reduced = pca.transform(data_test)\n",
        "\n",
        "explained_variance = pca.explained_variance_ratio_\n",
        "\n",
        "print(\"Resampled Training Data Shape (undersampling):\", data_train_rus.shape, \"Original Test Data Shape:\", data_test.shape)\n",
        "print(\"Reduced resampled Training Data Shape (undersampling):\", data_train_rus_reduced.shape, \"Reduced Test Data Shape:\", data_test_rus_reduced.shape)"
      ]
    },
    {
      "cell_type": "code",
      "execution_count": null,
      "metadata": {},
      "outputs": [],
      "source": [
        "# tune hyperparameters on undersampled reduced data test\n",
        "X = data_train_rus_reduced\n",
        "y = target_train_rus\n",
        "knn = KNeighborsClassifier(weights='distance', p=1)\n",
        "grid_search_estimator.fit(X,y)\n",
        "\n",
        "# # print the results of all hyper-parameter combinations\n",
        "results = pd.DataFrame(grid_search_estimator.cv_results_)\n",
        "display(results)\n",
        "\n",
        "print(\"best score for reduced balanced data set (undersampling) is {} with params {}\".format(grid_search_estimator.best_score_, grid_search_estimator.best_params_))"
      ]
    },
    {
      "cell_type": "code",
      "execution_count": null,
      "id": "xmsHpliMrjRh",
      "metadata": {
        "colab": {
          "base_uri": "https://localhost:8080/"
        },
        "id": "xmsHpliMrjRh",
        "outputId": "81d2969e-5d69-49ec-9649-7bba4bffd54b"
      },
      "outputs": [
        {
          "name": "stdout",
          "output_type": "stream",
          "text": [
            "Performance using k Nearest Neighbors on undersampled reduced data set\n",
            "Accuracy: 0.26 i.e. -0.014709159794963178 better than baseline\n",
            "F1-score: 0.26 i.e. -0.016558222811761114 better than baseline\n"
          ]
        }
      ],
      "source": [
        "knn = KNeighborsClassifier(n_neighbors=13, weights='distance', p=1)\n",
        "knn.fit(data_train_rus_reduced, target_train_rus)\n",
        "target_prediction = knn.predict(data_test)\n",
        "\n",
        "accuracy = accuracy_score(target_test, target_prediction)\n",
        "f1_weighted = f1_score(target_test, target_prediction, average='weighted')\n",
        "print(\"Performance using k Nearest Neighbors on undersampled reduced data set\")\n",
        "print(f\"Accuracy: {accuracy:.2f} i.e. {accuracy-base_accuracy} better than baseline\")\n",
        "print(f\"F1-score: {f1_weighted:.2f} i.e. {f1_weighted-base_f1_weighted} better than baseline\")"
      ]
    },
    {
      "cell_type": "markdown",
      "metadata": {},
      "source": [
        "# The best performance was shown by the classifier trained on unbalanced data without application principal component analysis "
      ]
    },
    {
      "cell_type": "code",
      "execution_count": null,
      "id": "d_MC1WqGd9mc",
      "metadata": {
        "id": "d_MC1WqGd9mc"
      },
      "outputs": [],
      "source": []
    }
  ],
  "metadata": {
    "colab": {
      "provenance": []
    },
    "kernelspec": {
      "display_name": "Python 3 (ipykernel)",
      "language": "python",
      "name": "python3"
    },
    "language_info": {
      "codemirror_mode": {
        "name": "ipython",
        "version": 3
      },
      "file_extension": ".py",
      "mimetype": "text/x-python",
      "name": "python",
      "nbconvert_exporter": "python",
      "pygments_lexer": "ipython3",
      "version": "3.9.18"
    }
  },
  "nbformat": 4,
  "nbformat_minor": 5
}
