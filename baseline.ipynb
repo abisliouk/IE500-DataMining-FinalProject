{
 "cells": [
  {
   "cell_type": "markdown",
   "metadata": {},
   "source": [
    "# Baseline #1\n",
    "* Always predict the majority class"
   ]
  },
  {
   "cell_type": "code",
   "execution_count": 1,
   "metadata": {},
   "outputs": [],
   "source": [
    "import pandas as pd\n",
    "pd.options.display.max_columns = 200\n",
    "\n",
    "songs = pd.read_csv('data/spotify_simplified.csv', index_col=[0])\n",
    "# Transform duration attribute to minutes for better interpretability\n",
    "songs['duration_ms'] = songs['duration_ms'] / (1000 * 60)\n",
    "songs.rename(columns={'duration_ms': 'duration_min'}, inplace=True)\n",
    "# Delete duplicates and rows with NAs\n",
    "songs.dropna(inplace=True)\n",
    "songs = songs.drop_duplicates(['track_id'])"
   ]
  },
  {
   "cell_type": "code",
   "execution_count": 2,
   "metadata": {},
   "outputs": [
    {
     "name": "stdout",
     "output_type": "stream",
     "text": [
      "Majority class is: edm\n"
     ]
    }
   ],
   "source": [
    "# Find majority class\n",
    "grouped_by_genre = songs.groupby(['track_genre']).size()\n",
    "max_value = max(grouped_by_genre)\n",
    "max_i = list(grouped_by_genre).index(max_value)\n",
    "genre_names = list(grouped_by_genre.index)\n",
    "majority_class = genre_names[max_i]\n",
    "print(f\"Majority class is: {majority_class}\")"
   ]
  },
  {
   "cell_type": "code",
   "execution_count": 3,
   "metadata": {},
   "outputs": [
    {
     "name": "stdout",
     "output_type": "stream",
     "text": [
      "Baseline performance predicting always the majority class\n",
      "Accuracy: 0.121388\n",
      "F1-score: 0.026280\n"
     ]
    }
   ],
   "source": [
    "from sklearn.preprocessing import LabelEncoder\n",
    "from sklearn.model_selection import train_test_split\n",
    "from sklearn.metrics import accuracy_score, f1_score\n",
    "\n",
    "def evaluate_baseline(y_test, predictions):\n",
    "    base_accuracy = accuracy_score(y_test, predictions)\n",
    "    base_f1_weighted = f1_score(y_test, predictions, average='weighted')\n",
    "    print(f\"Accuracy: {base_accuracy:.6f}\")\n",
    "    print(f\"F1-score: {base_f1_weighted:.6f}\")\n",
    "    return base_f1_weighted\n",
    "\n",
    "songs_data = songs.drop(columns = [\"track_genre\"])\n",
    "genres = songs[\"track_genre\"]\n",
    "# Numerically encode the labels\n",
    "label_encoder = LabelEncoder()\n",
    "encoded_genres = label_encoder.fit_transform(genres)\n",
    "# Perform data split\n",
    "X_train, X_test, y_train, y_test = train_test_split(songs_data, encoded_genres, test_size=0.3, \n",
    "                                                    stratify=encoded_genres, shuffle=True, random_state=100)\n",
    "# Compute predictions (always predict majority class)\n",
    "majority_class_label = list(label_encoder.classes_).index(majority_class)\n",
    "predictions = [majority_class_label] * len(y_test)\n",
    "# Evaluate baseline model\n",
    "print(\"Baseline performance predicting always the majority class\")\n",
    "majority_baseline_f1 = evaluate_baseline(y_test, predictions)"
   ]
  },
  {
   "cell_type": "markdown",
   "metadata": {},
   "source": [
    "# Baseline #2\n",
    "* Predict using a set of rules that were determined by looking at the data"
   ]
  },
  {
   "cell_type": "code",
   "execution_count": 60,
   "metadata": {},
   "outputs": [],
   "source": [
    "import random\n",
    "\n",
    "def predict_using_rules(training_record:pd.Series, genre_mapping:dict) -> int:\n",
    "    # Strongest rules first (rules with high purity)\n",
    "    if training_record['speechiness'] > 0.75:\n",
    "        prediction = 'comedy'\n",
    "    elif training_record['liveness'] > 0.6:\n",
    "        prediction = 'pagode'\n",
    "    elif training_record['valence'] < 0.03:\n",
    "        prediction = 'sleep'\n",
    "    elif training_record['acousticness'] > 0.99:\n",
    "        prediction = random.choice(['piano', 'classical'])\n",
    "    elif training_record['danceability'] > 0.90:\n",
    "        prediction = random.choice(['children', 'kids'])\n",
    "    elif training_record['popularity'] > 75:\n",
    "        prediction = random.choice(['latino', 'dance'])\n",
    "    elif training_record['duration_min'] > 6:\n",
    "        prediction = random.choice(['chicago-house', 'minimal-techno', 'detroit-techno'])\n",
    "    elif training_record['explicit']:\n",
    "        prediction = 'emo'\n",
    "    elif training_record['loudness'] > -3:\n",
    "        prediction = random.choice(['drum-and-bass', 'j-idol', 'hardstyle', 'happy', 'party'])\n",
    "    else:\n",
    "        prediction = 'acoustic'  # Majority class\n",
    "    return genre_mapping[prediction]"
   ]
  },
  {
   "cell_type": "markdown",
   "metadata": {},
   "source": [
    "### Baseline for simplified dataset"
   ]
  },
  {
   "cell_type": "code",
   "execution_count": 4,
   "metadata": {},
   "outputs": [],
   "source": [
    "import random\n",
    "\n",
    "def predict_using_rules(training_record:pd.Series, genre_mapping:dict) -> int:\n",
    "    # Strongest rules first (rules with high purity)\n",
    "    if training_record['speechiness'] > 0.75:\n",
    "        prediction = 'comedy'\n",
    "    elif training_record['valence'] < 0.03 or training_record['tempo'] == 0:\n",
    "        prediction = 'sleep'\n",
    "    elif training_record['acousticness'] > 0.99:\n",
    "        prediction = random.choice(['ambient', 'classical'])\n",
    "    elif training_record['duration_min'] > 6:\n",
    "        prediction = 'techno'\n",
    "    elif training_record['danceability'] > 0.90:\n",
    "        prediction = 'children'\n",
    "    else:\n",
    "        prediction = 'edm'  # Majority class\n",
    "    return genre_mapping[prediction]"
   ]
  },
  {
   "cell_type": "code",
   "execution_count": 5,
   "metadata": {},
   "outputs": [
    {
     "name": "stdout",
     "output_type": "stream",
     "text": [
      "Baseline performance using hand-crafted rules\n",
      "Accuracy: 0.164661\n",
      "F1-score: 0.087731\n"
     ]
    }
   ],
   "source": [
    "# Baseline using rules\n",
    "label_map = {genre_name: i for i, genre_name in enumerate(list(label_encoder.classes_))}\n",
    "predictions = [predict_using_rules(X_test.iloc[i], label_map) for i in range(len(X_test))]\n",
    "print(\"Baseline performance using hand-crafted rules\")\n",
    "rule_baseline_f1 = evaluate_baseline(y_test, predictions)"
   ]
  },
  {
   "cell_type": "code",
   "execution_count": 6,
   "metadata": {},
   "outputs": [
    {
     "name": "stdout",
     "output_type": "stream",
     "text": [
      "Rule baseline has 233.83% better performance than majority baseline\n"
     ]
    }
   ],
   "source": [
    "# Compare baselines\n",
    "print(f\"Rule baseline has {(rule_baseline_f1 - majority_baseline_f1)/majority_baseline_f1*100:.2f}% better performance than majority baseline\")"
   ]
  }
 ],
 "metadata": {
  "kernelspec": {
   "display_name": "ml",
   "language": "python",
   "name": "python3"
  },
  "language_info": {
   "codemirror_mode": {
    "name": "ipython",
    "version": 3
   },
   "file_extension": ".py",
   "mimetype": "text/x-python",
   "name": "python",
   "nbconvert_exporter": "python",
   "pygments_lexer": "ipython3",
   "version": "3.10.12"
  }
 },
 "nbformat": 4,
 "nbformat_minor": 2
}
